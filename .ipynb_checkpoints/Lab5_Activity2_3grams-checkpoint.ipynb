{
 "cells": [
  {
   "cell_type": "markdown",
   "metadata": {},
   "source": [
    "# Import all the necessary packages"
   ]
  },
  {
   "cell_type": "code",
   "execution_count": 1,
   "metadata": {
    "collapsed": true
   },
   "outputs": [],
   "source": [
    "from pyspark import SparkContext\n",
    "from operator import add\n",
    "import re\n",
    "import time"
   ]
  },
  {
   "cell_type": "markdown",
   "metadata": {},
   "source": [
    "# Create a spark context which will be used for mapper and reducer"
   ]
  },
  {
   "cell_type": "code",
   "execution_count": 2,
   "metadata": {
    "collapsed": true
   },
   "outputs": [],
   "source": [
    "sc = SparkContext.getOrCreate()"
   ]
  },
  {
   "cell_type": "code",
   "execution_count": 3,
   "metadata": {
    "collapsed": true
   },
   "outputs": [],
   "source": [
    "# Process the lemmatizer file and make a hashMap of having keys as the lemma and its corresponsding values as the words\n",
    "\n",
    "lemmaWords = {}\n",
    "with open( \"new_lemmatizer.csv\", \"r\", encoding = 'utf-8') as f:\n",
    "    words = []\n",
    "    count = 0\n",
    "    for line in f:\n",
    "        array = line.split(\",\")\n",
    "        lemma = array[0]\n",
    "        i = 1\n",
    "        while i < len(array):\n",
    "            if(array[i] != \"\" and array[i] != \"\\n\"):\n",
    "                words.append(array[i])\n",
    "            i+=1\n",
    "        lemmaWords[lemma] = words\n",
    "        words = []\n",
    "\n",
    "# Function to the 2gram word cooccurrence pairs\n",
    "\n",
    "def getThreeGramWordPairs(line):\n",
    "    if len(line.split(\">\")) > 1:\n",
    "        location = line.split(\">\")[0] + \">\"\n",
    "        words_array = re.sub(r'([^\\s\\w]|_)+', \"\",line.split(\">\")[1].strip()).split(\" \")\n",
    "        print(words_array)\n",
    "\n",
    "        for i in range(0, len(words_array)-3):\n",
    "            for j in range(i+1, len(words_array)-2):\n",
    "                for k in range(i+2, len(words_array)-1):\n",
    "                    if words_array[i] != \"\" and words_array[j] != \"\" and words_array[k] != \"\":\n",
    "                        if words_array[i] in lemmaWords and words_array[j] in lemmaWords and words_array[k] in lemmaWords:\n",
    "                            for lemma1 in lemmaWords[words_array[i]]:\n",
    "                                for lemma2 in lemmaWords[str(words_array[j])]:\n",
    "                                    for lemma3 in lemmaWords[str(words_array[k])]:\n",
    "                                        yield (lemma1+\"-\"+lemma2+\"-\"+lemma3, location)\n",
    "                        elif words_array[j] in lemmaWords and words_array[k] in lemmaWords:\n",
    "                            lemma1 = words_array[i]\n",
    "                            for lemma2 in lemmaWords[words_array[j]]:\n",
    "                                for lemma3 in lemmaWords[str(words_array[k])]:\n",
    "                                    yield (lemma1+\"-\"+lemma2+\"-\"+lemma3, location)\n",
    "                        elif words_array[i] in lemmaWords and words_array[k] in lemmaWords:\n",
    "                            lemma2 = words_array[j]\n",
    "                            for lemma1 in lemmaWords[words_array[i]]:\n",
    "                                for lemma3 in lemmaWords[str(words_array[k])]:\n",
    "                                    yield (lemma1+\"-\"+lemma2+\"-\"+lemma3, location)\n",
    "                        elif words_array[i] in lemmaWords and words_array[j] in lemmaWords:\n",
    "                            lemma3 = words_array[k]\n",
    "                            for lemma1 in lemmaWords[words_array[i]]:\n",
    "                                for lemma2 in lemmaWords[str(words_array[j])]:\n",
    "                                    yield (lemma1+\"-\"+lemma2+\"-\"+lemma3, location)\n",
    "                        elif words_array[i] in lemmaWords:                \n",
    "                            lemma2 = words_array[j]\n",
    "                            lemma3 = words_array[k]\n",
    "                            for lemma1 in lemmaWords[words_array[i]]:\n",
    "                                yield (lemma1+\"-\"+lemma2+\"-\"+lemma3, location)            \n",
    "                        elif words_array[j] in lemmaWords:                \n",
    "                            lemma1 = words_array[i]\n",
    "                            lemma3 = words_array[k]\n",
    "                            for lemma2 in lemmaWords[words_array[j]]:\n",
    "                                yield (lemma1+\"-\"+lemma2+\"-\"+lemma3, location)\n",
    "                        elif words_array[k] in lemmaWords:\n",
    "                            lemma1 = words_array[i]\n",
    "                            lemma2 = words_array[j]\n",
    "                            for lemma3 in lemmaWords[words_array[k]]:\n",
    "                                yield (lemma1+\"-\"+lemma2+\"-\"+lemma3, location)\n",
    "                        else:\n",
    "                            yield (words_array[i]+\"-\"+words_array[j]+\"-\"+words_array[k], location)\n",
    "\n"
   ]
  },
  {
   "cell_type": "markdown",
   "metadata": {},
   "source": [
    "# FLatMap is used as the mapper and reducebyKey is used as the reducer¶"
   ]
  },
  {
   "cell_type": "code",
   "execution_count": 4,
   "metadata": {
    "collapsed": false
   },
   "outputs": [
    {
     "name": "stdout",
     "output_type": "stream",
     "text": [
      "--- 6.4990551471710205 seconds ---\n"
     ]
    }
   ],
   "source": [
    "start_time = time.time()\n",
    "\n",
    "words = sc.textFile(\"D:\\DIC\\Lab5\\Files\\*.tess\")\n",
    "counts = words.flatMap(getThreeGramWordPairs).reduceByKey(lambda x, y: x + \" \" + y)\n",
    "\n",
    "print(\"--- %s seconds ---\" % (time.time() - start_time))"
   ]
  },
  {
   "cell_type": "code",
   "execution_count": 6,
   "metadata": {
    "collapsed": true
   },
   "outputs": [],
   "source": [
    "cooccurrence = counts.collect()\n",
    "f = open('3grams_output', 'w')\n",
    "\n",
    "for i in cooccurrence:\n",
    "    f.write(str(i)+\"\\n\")\n",
    "f.close()    "
   ]
  },
  {
   "cell_type": "code",
   "execution_count": null,
   "metadata": {
    "collapsed": true
   },
   "outputs": [],
   "source": []
  }
 ],
 "metadata": {
  "kernelspec": {
   "display_name": "Python 3",
   "language": "python",
   "name": "python3"
  },
  "language_info": {
   "codemirror_mode": {
    "name": "ipython",
    "version": 3
   },
   "file_extension": ".py",
   "mimetype": "text/x-python",
   "name": "python",
   "nbconvert_exporter": "python",
   "pygments_lexer": "ipython3",
   "version": "3.6.0"
  }
 },
 "nbformat": 4,
 "nbformat_minor": 2
}
